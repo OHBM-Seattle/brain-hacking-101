{
 "cells": [
  {
   "cell_type": "markdown",
   "metadata": {},
   "source": [
    "### Brain-hacking 101\n",
    "\n",
    "Author: [**Ariel Rokem**](http://arokem.org), [**The University of Washington eScience Institute**](http://escience.washington.edu)"
   ]
  },
  {
   "cell_type": "markdown",
   "metadata": {},
   "source": [
    "The notebooks collected here are meant to lead a beginner through a few first steps on your way to brain-hacking. \n",
    "\n",
    "The examples are implemented in the `Python` programming langauge using the `Jupyter`/`IPython` notebook. To learn more about this notebook format, you can visit the project website at: http://ipython.org/. You will find the instructions on installing IPython on their website, but to make this process easy, we recommend downloading and installing the [Anaconda software distribution](http://continuum.io/downloads). For some of the tutorials, you will also need the [nibabel](http://nipy.org/nibabel) neuroimaging software. \n",
    "\n",
    "For the purposes of reading these tutorials and experiencing them, you need to know the following about the notebook (consider reading more in [this notebook](000-notebooks.ipynb), which provides a gentle introduction):\n",
    "\n",
    "1. Each cell is either a *code* cell, or a *markdown* cell. For example, this cell is a *markdown* cell.\n",
    "1. To execute a cell, press the combination: shift-enter.\n",
    "1. When executed, the cells containing *markdown* render into text.\n",
    "1. The cells containing code, will run that code in the python interpreter when executed.\n",
    "1. The variables defined in the notebook will persist for as long as the *kernel* persists. You can reset the environment by clicking \\\"Kernel\\\" => \\\"Restart\\\" in the menu at the top of the notebook.\n",
    "1. After running the computations that we have written in the notebook cells, you can explore the data further by adding code cells, or by altering the existing code cells, and rerunning them.\n",
    "\n",
    "\n",
    "Use the links below to visit and run the notebooks: \n",
    "\n",
    "1. [Hack 1](001-arrays.ipynb): Get your data into an array.\n",
    "1. [Hack 2](002-plots.ipynb): Look at your data.\n",
    "1. [Hack 3](003-calculations.ipynb): Perform some simple calculations.\n",
    "1. [Hack 4](004-interactions.ipynb): Build a simple interactive view of the data."
   ]
  },
  {
   "cell_type": "code",
   "execution_count": null,
   "metadata": {
    "collapsed": true
   },
   "outputs": [],
   "source": []
  }
 ],
 "metadata": {
  "kernelspec": {
   "display_name": "Python 2",
   "language": "python",
   "name": "python2"
  },
  "language_info": {
   "codemirror_mode": {
    "name": "ipython",
    "version": 2
   },
   "file_extension": ".py",
   "mimetype": "text/x-python",
   "name": "python",
   "nbconvert_exporter": "python",
   "pygments_lexer": "ipython2",
   "version": "2.7.9"
  }
 },
 "nbformat": 4,
 "nbformat_minor": 0
}
