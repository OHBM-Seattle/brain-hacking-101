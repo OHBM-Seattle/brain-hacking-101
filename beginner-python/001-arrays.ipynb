{
 "cells": [
  {
   "cell_type": "markdown",
   "metadata": {},
   "source": [
    "### Brain-hacking 101\n",
    "\n",
    "Author: [**Ariel Rokem**](http://arokem.org), [**The University of Washington eScience Institute**](http://escience.washington.edu)"
   ]
  },
  {
   "cell_type": "markdown",
   "metadata": {},
   "source": [
    "### Hack 1: Read your data into an array\n",
    "\n",
    "When you conduct a neuroimaging experiment, the computer that controls the scanner and receives the data from the scanner saves your data to a file. Neuroimaging data appears in many different file formats: `NiFTI`, `Minc`, `Dicom`, etc. These files all contain representations of the data that you collected in the form of an **array**. \n",
    "\n",
    "What is an array? It is a way of representing the data in the computer memory as a *table*, that is *multi-dimensional* and *homogenous*.\n",
    "\n",
    "What does this mean? \n",
    "\n",
    "- *table* means that you will be able to read all or some of the numbers representing your data by addressing the variable that holds your array. It's like addressing a member of your lab to tell you the answer to a question you have, except here you are going to 'ask' a variable in your computer memory. Arrays are usually not as smart as your lab members, but they have very good memory.\n",
    "\n",
    "- *multi-dimensional* means that you can represent different aspects of your data along different axes. For example, the three dimensions of space can be represented in different dimensions of the table:"
   ]
  },
  {
   "cell_type": "markdown",
   "metadata": {},
   "source": [
    "![Arrays](./images/array.svg)"
   ]
  },
  {
   "cell_type": "markdown",
   "metadata": {},
   "source": [
    "- *homogenous* actually means two different things: \n",
    "    - The shape of the array is homogenous, so if there are three items in the first column, there have to be three items in all the columns. \n",
    "    - The data-type is homogenous. If the first item is an integer, all the other items will be integers as well."
   ]
  },
  {
   "cell_type": "markdown",
   "metadata": {},
   "source": [
    "To demonstrate the properties of arrays, we will use the [`numpy`](https://numpy.org) library. This library contains implementations of many scientifically useful functions and objects. In particular, it contains an implementation of arrays that we will use throughout the folllowing examples."
   ]
  },
  {
   "cell_type": "code",
   "execution_count": 1,
   "metadata": {
    "collapsed": true
   },
   "outputs": [],
   "source": [
    "import numpy as np"
   ]
  },
  {
   "cell_type": "code",
   "execution_count": 2,
   "metadata": {
    "collapsed": true
   },
   "outputs": [],
   "source": [
    "# Numpy is a package. To see what's in a package, type the name, a period, then hit tab\n",
    "#np?\n",
    "#np."
   ]
  },
  {
   "cell_type": "code",
   "execution_count": 3,
   "metadata": {
    "collapsed": false
   },
   "outputs": [
    {
     "name": "stdout",
     "output_type": "stream",
     "text": [
      "2.0\n",
      "3.14159265359\n",
      "1.22464679915e-16\n"
     ]
    }
   ],
   "source": [
    "# Some examples of numpy functions and \"things\":\n",
    "print(np.sqrt(4))\n",
    "print(np.pi)  # Not a function, just a variable\n",
    "print(np.sin(np.pi)) # A function on a variable :) "
   ]
  },
  {
   "cell_type": "markdown",
   "metadata": {},
   "source": [
    "### Numpy arrays (ndarrays)\n",
    "\n",
    "Creating a NumPy array is as simple as passing a sequence to `np.array` "
   ]
  },
  {
   "cell_type": "code",
   "execution_count": 4,
   "metadata": {
    "collapsed": false
   },
   "outputs": [
    {
     "name": "stdout",
     "output_type": "stream",
     "text": [
      "<type 'numpy.ndarray'>\n",
      "float64\n",
      "(3,)\n"
     ]
    }
   ],
   "source": [
    "arr1 = np.array([1, 2.3, 4])   \n",
    "print(type(arr1))\n",
    "print(arr1.dtype)\n",
    "print(arr1.shape)"
   ]
  },
  {
   "cell_type": "code",
   "execution_count": 5,
   "metadata": {
    "collapsed": false
   },
   "outputs": [
    {
     "name": "stdout",
     "output_type": "stream",
     "text": [
      "[ 1.   2.3  4. ]\n"
     ]
    }
   ],
   "source": [
    "print(arr1)"
   ]
  },
  {
   "cell_type": "markdown",
   "metadata": {},
   "source": [
    "### You can create arrays with special generating functions: \n",
    "\n",
    "`np.arange(start, stop, [step])`\n",
    "\n",
    "`np.zeros(shape)`\n",
    "\n",
    "`np.ones(shape)`"
   ]
  },
  {
   "cell_type": "code",
   "execution_count": 6,
   "metadata": {
    "collapsed": false
   },
   "outputs": [
    {
     "name": "stdout",
     "output_type": "stream",
     "text": [
      "[2 3 4]\n",
      "[1 3]\n",
      "[1 3 5 7 9]\n"
     ]
    }
   ],
   "source": [
    "arr4 = np.arange(2, 5)\n",
    "print(arr4)\n",
    "arr5 = np.arange(1, 5, 2)\n",
    "print(arr5)\n",
    "arr6 = np.arange(1, 10, 2)\n",
    "print(arr6)"
   ]
  },
  {
   "cell_type": "markdown",
   "metadata": {
    "collapsed": true
   },
   "source": [
    "## Exercise : Create an Array\n",
    "\n",
    "Create an array with values ranging from 0 to 10, in increments of 0.5.\n",
    "\n",
    "Reminder: get help by typing np.arange?, np.ndarray?, np.array?, etc."
   ]
  },
  {
   "cell_type": "markdown",
   "metadata": {},
   "source": [
    "### Arithmetic with arrays\n",
    "\n",
    "Since numpy exists to perform efficient numerical operations in Python, arrays have all the usual arithmetic operations available to them. These operations are performed element-wise (i.e. the same operation is performed independently on each element of the array)."
   ]
  },
  {
   "cell_type": "code",
   "execution_count": 85,
   "metadata": {
    "collapsed": false
   },
   "outputs": [
    {
     "name": "stdout",
     "output_type": "stream",
     "text": [
      "[ 5  7  9 11 13]\n",
      "[5 5 5 5 5]\n",
      "[ 0  6 14 24 36]\n"
     ]
    }
   ],
   "source": [
    "A = np.arange(5)\n",
    "B = np.arange(5, 10)\n",
    "\n",
    "print (A+B)\n",
    "\n",
    "print(B-A)\n",
    "\n",
    "print(A*B)"
   ]
  },
  {
   "cell_type": "markdown",
   "metadata": {},
   "source": [
    "### What would happen if A and B did not have the same `shape`?"
   ]
  },
  {
   "cell_type": "markdown",
   "metadata": {},
   "source": [
    "### Arithmetic with scalars:\n",
    "\n",
    "In addition, if one of the arguments is a scalar, that value will be applied to all the elements of the array."
   ]
  },
  {
   "cell_type": "code",
   "execution_count": 86,
   "metadata": {
    "collapsed": false
   },
   "outputs": [
    {
     "name": "stdout",
     "output_type": "stream",
     "text": [
      "[10 11 12 13 14]\n",
      "[0 2 4 6 8]\n",
      "[ 0  1  4  9 16]\n"
     ]
    }
   ],
   "source": [
    "A = np.arange(5)\n",
    "print(A+10)\n",
    "print(2*A)\n",
    "print(A**2)"
   ]
  },
  {
   "cell_type": "markdown",
   "metadata": {},
   "source": [
    "### Arrays are addressed through indexing\n",
    "\n",
    "**Python uses zero-based indexing**: The first item in the array is item `0`\n",
    "\n",
    "The second item is item `1`, the third is item `2`, etc."
   ]
  },
  {
   "cell_type": "code",
   "execution_count": 87,
   "metadata": {
    "collapsed": false
   },
   "outputs": [
    {
     "name": "stdout",
     "output_type": "stream",
     "text": [
      "[0 1 2 3 4]\n",
      "0\n",
      "1\n",
      "2\n"
     ]
    }
   ],
   "source": [
    "print(A)\n",
    "print(A[0])\n",
    "print(A[1])\n",
    "print(A[2])"
   ]
  },
  {
   "cell_type": "markdown",
   "metadata": {},
   "source": [
    "### `numpy` contains various functions for calculations on arrays"
   ]
  },
  {
   "cell_type": "code",
   "execution_count": 88,
   "metadata": {
    "collapsed": false
   },
   "outputs": [
    {
     "name": "stdout",
     "output_type": "stream",
     "text": [
      "[  1.           2.71828183   7.3890561   20.08553692  54.59815003]\n",
      "2.0\n"
     ]
    }
   ],
   "source": [
    "# This gets the exponent, element-wise:\n",
    "print(np.exp(A))\n",
    "\n",
    "# This is the average number in the entire array:\n",
    "print(np.mean(A))"
   ]
  },
  {
   "cell_type": "markdown",
   "metadata": {},
   "source": [
    "### Data in Nifti files is stored as an array \n",
    "\n",
    "In the tutorial directory, we have included a single run of an fMRI experiment that was included in the FIAC competition. The experiment is described in full in a paper by Dehaene-Lambertz et al. (2006), but for the purposes of what we do today, the exact details of the acquisition and the task are not particularly important.\n",
    "\n",
    "We can read out this array into the computer memory using the `nibabel` library"
   ]
  },
  {
   "cell_type": "code",
   "execution_count": 89,
   "metadata": {
    "collapsed": true
   },
   "outputs": [],
   "source": [
    "import nibabel as nib"
   ]
  },
  {
   "cell_type": "markdown",
   "metadata": {},
   "source": [
    "Loading the file is simple:"
   ]
  },
  {
   "cell_type": "code",
   "execution_count": 90,
   "metadata": {
    "collapsed": false
   },
   "outputs": [],
   "source": [
    "img = nib.load('./data/run1.nii.gz')"
   ]
  },
  {
   "cell_type": "markdown",
   "metadata": {},
   "source": [
    "But note that in order to save time and memory, nibabel is pretty lazy about reading data from file, until we really need this data. \n",
    "\n",
    "Meaning that at this point, we've only read information *about* the data, not the data itself. This thing is not the data array yet. What is it then? "
   ]
  },
  {
   "cell_type": "code",
   "execution_count": 91,
   "metadata": {
    "collapsed": false
   },
   "outputs": [
    {
     "data": {
      "text/plain": [
       "nibabel.nifti1.Nifti1Image"
      ]
     },
     "execution_count": 91,
     "metadata": {},
     "output_type": "execute_result"
    }
   ],
   "source": [
    "type(img)"
   ]
  },
  {
   "cell_type": "markdown",
   "metadata": {},
   "source": [
    "It's a `Nifti1Image` object! That means that it is a variable that holds various attributes of the data. For example, the 4 by 4 matrix that describes the spatial transformation between the world coordinates and the image coordinates"
   ]
  },
  {
   "cell_type": "code",
   "execution_count": 92,
   "metadata": {
    "collapsed": false
   },
   "outputs": [
    {
     "data": {
      "text/plain": [
       "array([[-3.00000238,  0.        ,  0.        ,  0.        ],\n",
       "       [ 0.        , -3.00000381,  0.        ,  0.        ],\n",
       "       [ 0.        ,  0.        ,  4.        ,  0.        ],\n",
       "       [ 0.        ,  0.        ,  0.        ,  1.        ]])"
      ]
     },
     "execution_count": 92,
     "metadata": {},
     "output_type": "execute_result"
    }
   ],
   "source": [
    "img.affine"
   ]
  },
  {
   "cell_type": "markdown",
   "metadata": {},
   "source": [
    "This object also has functions. You can get the data, by calling a function of that object:"
   ]
  },
  {
   "cell_type": "markdown",
   "metadata": {},
   "source": [
    "There's a header in there that provides some additional information:\n"
   ]
  },
  {
   "cell_type": "code",
   "execution_count": 93,
   "metadata": {
    "collapsed": false
   },
   "outputs": [
    {
     "name": "stdout",
     "output_type": "stream",
     "text": [
      "(3.0000024, 3.0000038, 4.0, 1.0)\n"
     ]
    }
   ],
   "source": [
    "hdr = img.get_header()\n",
    "print(hdr.get_zooms())"
   ]
  },
  {
   "cell_type": "code",
   "execution_count": 94,
   "metadata": {
    "collapsed": false
   },
   "outputs": [
    {
     "name": "stdout",
     "output_type": "stream",
     "text": [
      "<type 'numpy.ndarray'>\n"
     ]
    }
   ],
   "source": [
    "data = img.get_data()\n",
    "print(type(data))"
   ]
  },
  {
   "cell_type": "code",
   "execution_count": 95,
   "metadata": {
    "collapsed": false
   },
   "outputs": [
    {
     "name": "stdout",
     "output_type": "stream",
     "text": [
      "(64, 64, 30, 191)\n"
     ]
    }
   ],
   "source": [
    "print(data.shape)"
   ]
  },
  {
   "cell_type": "markdown",
   "metadata": {},
   "source": [
    "This is a 4-dimensional array! We happen to know that time is the last dimension, and there are 191 TRs recorded in this data. There are 30 slices in each TR/volume, with an inplane matrix of 64 by 64 in each slice. "
   ]
  },
  {
   "cell_type": "markdown",
   "metadata": {},
   "source": [
    "We can easily access different parts of the data. Here is the full time-series for the central voxel in the volume:"
   ]
  },
  {
   "cell_type": "code",
   "execution_count": 96,
   "metadata": {
    "collapsed": false
   },
   "outputs": [
    {
     "name": "stdout",
     "output_type": "stream",
     "text": [
      "[ 3881.  3886.  4052.  3995.  3963.  3910.  3908.  3899.  3922.  3854.\n",
      "  3903.  3812.  4041.  3896.  4037.  3857.  3981.  3901.  3931.  3867.\n",
      "  3999.  4002.  3948.  4091.  3915.  3929.  3888.  3925.  3955.  3854.\n",
      "  4023.  3861.  4011.  3864.  3736.  3961.  4019.  3790.  4041.  3941.\n",
      "  4005.  3952.  3924.  3952.  3942.  3895.  3907.  4001.  3892.  4000.\n",
      "  3835.  3823.  3922.  3792.  4021.  3841.  3972.  3804.  3837.  3851.\n",
      "  3922.  3996.  3899.  3816.  3793.  3703.  3995.  3848.  3917.  3790.\n",
      "  3828.  3978.  3833.  3726.  3950.  3868.  3812.  3910.  3882.  3847.\n",
      "  3829.  3882.  3804.  3735.  3969.  3778.  3702.  3788.  3851.  3921.\n",
      "  3769.  3836.  3794.  3884.  4060.  3883.  3810.  3785.  3995.  3926.\n",
      "  3775.  3834.  3883.  3909.  3850.  3896.  3844.  3716.  3879.  4015.\n",
      "  3903.  3893.  3760.  3931.  3876.  3986.  3809.  3835.  3949.  3874.\n",
      "  3772.  3896.  3875.  3706.  3838.  3839.  3882.  4007.  3803.  3854.\n",
      "  3795.  3780.  3793.  3728.  3783.  3828.  3742.  3760.  3672.  3913.\n",
      "  3649.  3924.  3679.  3735.  3702.  3717.  3742.  3856.  3696.  3834.\n",
      "  3616.  3797.  3745.  3773.  3652.  3637.  3793.  3764.  3756.  3761.\n",
      "  3851.  3717.  3686.  3825.  3772.  3793.  3617.  3791.  3824.  3769.\n",
      "  3713.  3616.  3921.  3597.  3646.  3581.  3670.  3742.  3605.  3665.\n",
      "  3765.  3753.  3646.  3692.  3734.  3748.  3590.  3787.  3651.  3671.\n",
      "  3695.]\n",
      "(191,)\n"
     ]
    }
   ],
   "source": [
    "center_voxel_time_series = data[32, 32, 15, :]\n",
    "print(center_voxel_time_series)\n",
    "print(center_voxel_time_series.shape)"
   ]
  },
  {
   "cell_type": "markdown",
   "metadata": {},
   "source": [
    "It's a one-dimensinal array! Here is the middle slice for the last time-point"
   ]
  },
  {
   "cell_type": "code",
   "execution_count": 97,
   "metadata": {
    "collapsed": false
   },
   "outputs": [
    {
     "name": "stdout",
     "output_type": "stream",
     "text": [
      "[[ 19.  54.  59. ...,  44.  52.  57.]\n",
      " [ 27.  32.  12. ...,  19.  17.  65.]\n",
      " [ 28.  46.  85. ...,  69.  58.  74.]\n",
      " ..., \n",
      " [ 25.  63.   5. ...,  66.  31.  56.]\n",
      " [ 47.  69.  35. ...,  70.  72.  40.]\n",
      " [ 28.  38.  33. ...,  14.  53.  16.]]\n",
      "(64, 64)\n"
     ]
    }
   ],
   "source": [
    "middle_slice_t0 = data[:, :, 15, -1]  # Using negative numbers allows you to count *from the end*\n",
    "print(middle_slice_t0)\n",
    "print(middle_slice_t0.shape)"
   ]
  },
  {
   "cell_type": "markdown",
   "metadata": {},
   "source": [
    "That's a 2D array. You get the picture, I hope.\n",
    "\n",
    "You can do all kinds of operations with the data using functions:"
   ]
  },
  {
   "cell_type": "code",
   "execution_count": 98,
   "metadata": {
    "collapsed": false
   },
   "outputs": [
    {
     "name": "stdout",
     "output_type": "stream",
     "text": [
      "3839.65968586\n",
      "110.300135033\n",
      "34.8110152785\n"
     ]
    }
   ],
   "source": [
    "print(np.mean(center_voxel_time_series))\n",
    "print(np.std(center_voxel_time_series))\n",
    "# TSNR is mean/std:\n",
    "print(np.mean(center_voxel_time_series)/np.std(center_voxel_time_series))"
   ]
  },
  {
   "cell_type": "markdown",
   "metadata": {},
   "source": [
    "### Using functions on parts of the data\n",
    "\n",
    "Many `numpy` functions have an `axis` optional argument. These arguments allow you to perform a reduction of the data along one of the dimensions of the array.\n",
    "\n",
    "For example, if you want to extract a 3D array with the mean/std in every one of the voxels:"
   ]
  },
  {
   "cell_type": "code",
   "execution_count": 99,
   "metadata": {
    "collapsed": true
   },
   "outputs": [],
   "source": [
    "mean_tseries = np.mean(data, axis=-1) # Select the last dimension\n",
    "std_tseries = np.std(data, axis=-1)\n",
    "tsnr = mean_tseries/std_tseries"
   ]
  },
  {
   "cell_type": "code",
   "execution_count": 100,
   "metadata": {
    "collapsed": false
   },
   "outputs": [
    {
     "name": "stdout",
     "output_type": "stream",
     "text": [
      "(64, 64, 30)\n"
     ]
    }
   ],
   "source": [
    "print(tsnr.shape)"
   ]
  },
  {
   "cell_type": "markdown",
   "metadata": {},
   "source": [
    "You can save the resulting array into a new file:"
   ]
  },
  {
   "cell_type": "code",
   "execution_count": 101,
   "metadata": {
    "collapsed": true
   },
   "outputs": [],
   "source": [
    "new_img = nib.Nifti1Image(tsnr, img.affine)"
   ]
  },
  {
   "cell_type": "code",
   "execution_count": 102,
   "metadata": {
    "collapsed": true
   },
   "outputs": [],
   "source": [
    "new_img.to_filename('tsnr.nii.gz')"
   ]
  }
 ],
 "metadata": {
  "kernelspec": {
   "display_name": "Python 2",
   "language": "python",
   "name": "python2"
  },
  "language_info": {
   "codemirror_mode": {
    "name": "ipython",
    "version": 2
   },
   "file_extension": ".py",
   "mimetype": "text/x-python",
   "name": "python",
   "nbconvert_exporter": "python",
   "pygments_lexer": "ipython2",
   "version": "2.7.9"
  }
 },
 "nbformat": 4,
 "nbformat_minor": 0
}
